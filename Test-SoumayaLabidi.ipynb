{
 "cells": [
  {
   "cell_type": "markdown",
   "metadata": {},
   "source": [
    "# Sujet 1"
   ]
  },
  {
   "cell_type": "markdown",
   "metadata": {},
   "source": [
    "Écrire une fonction qui prend en paramètre ensemble de réponse à un sondage et qui fait la statistique, on imagine que le sondage est dynamique et les réponses aussi."
   ]
  },
  {
   "cell_type": "markdown",
   "metadata": {},
   "source": [
    "**J'ai un petit problème avec le format d'enregistrement dans le fichier CSV  (à revoir); Merci de tester le code du statistique avant l'enregistrement des nouvelles données**"
   ]
  },
  {
   "cell_type": "markdown",
   "metadata": {},
   "source": [
    "**Résultat du code ci-dessous**"
   ]
  },
  {
   "attachments": {
    "statistics.png": {
     "image/png": "[encoded data removed]"
    }
   },
   "cell_type": "markdown",
   "metadata": {},
   "source": [
    "![statistics.png](attachment:statistics.png)"
   ]
  },
  {
   "cell_type": "code",
   "execution_count": null,
   "metadata": {},
   "outputs": [],
   "source": [
    "import csv\n",
    "from collections import defaultdict, Counter\n",
    "def mysondage():\n",
    "   \n",
    "    with open('csv/surveySoumaya.csv') as f:\n",
    "        # vérifier le chemin d'acces au fichier csv\n",
    "        csv_reader = csv.DictReader(f)\n",
    "\n",
    "        dev_type_info = {}\n",
    "\n",
    "        for line in csv_reader:\n",
    "            dev_types = line['have_car'].split(';')\n",
    "\n",
    "            for dev_type in dev_types:\n",
    "                dev_type_info.setdefault(dev_type, {\n",
    "                    'total': 0,\n",
    "                    'gender_counter': Counter()\n",
    "                })\n",
    "\n",
    "                gender = line['Gender'].split(';')\n",
    "                dev_type_info[dev_type]['gender_counter'].update(gender)\n",
    "                dev_type_info[dev_type]['total'] += 1\n",
    "\n",
    "\n",
    "    for dev_type, info in dev_type_info.items():\n",
    "        print(\"Les réponses par:\"+dev_type)\n",
    "\n",
    "        for gender, value in info['gender_counter'].most_common(2):\n",
    "            gender_pct = (value / info['total']) * 100\n",
    "            gender_pct = round(gender_pct, 2)\n",
    "            print(f'\\t{gender}: {gender_pct}%')\n",
    "mysondage()"
   ]
  },
  {
   "cell_type": "code",
   "execution_count": null,
   "metadata": {},
   "outputs": [],
   "source": [
    "#Import Package\n",
    "import csv\n",
    "from collections import defaultdict, Counter\n",
    "#Fonctions\n",
    "\n",
    "Q1=\"\"\"Have you a car?\n",
    "-Yes(Y)\n",
    "-No (N)\n",
    "\"\"\"\n",
    "Q2=\"\"\"Gender:\n",
    "-Male (M)\n",
    "-Female(F)\n",
    "\"\"\"\n",
    "questions={Q2:\"Male\",Q1:\"Yes\"}\n",
    "global li\n",
    "li=[]\n",
    "def savesondage(questions):\n",
    "    \"\"\"\n",
    "    Cette fonction prend en parametre les questions d'un sondage\n",
    "    Apres on peut enregister les données saisies dans un fichier Csv\n",
    "    Les données enregistrées seront utlisées dans les statistics  \n",
    "    \"\"\"\n",
    "    #for j,i in itertools.product(keys,questions):\n",
    "    for i in questions:\n",
    "        print(i)\n",
    "        ans=str(input(\"Put your answer here:\"))\n",
    "        li.append(ans)\n",
    "        csv_file = \"csv/surveySoumaya.csv\"\n",
    "        with open(csv_file, 'a') as csvfile:\n",
    "                writer = csv.writer(csvfile, dialect='excel')\n",
    "                writer.writerow(li) \n",
    "\n",
    "help(savesondage)\n",
    "savesondage(questions)\n",
    "print(\"Les nouvelles données:\", li)\n",
    "#vous pouvez consulter le fichier csv pour vérifier que les npuvelles données sont bien enregistrées dans le fichier"
   ]
  },
  {
   "cell_type": "markdown",
   "metadata": {},
   "source": [
    "# Sujet 2"
   ]
  },
  {
   "cell_type": "markdown",
   "metadata": {},
   "source": [
    "Écrire une fonction qui prend un paramètre entier X, et qui renvoi une\n",
    "réponse booléenne pour dire si le chiffre est divisible par 3 ou pas,\n",
    "sans utiliser la fonction div ou mod ou les opérateurs de division et\n",
    "reste de la division. (l'algorithme doit être optimisé)\n"
   ]
  },
  {
   "cell_type": "code",
   "execution_count": null,
   "metadata": {},
   "outputs": [],
   "source": [
    "a=int(input(\"Ecrire un entier a: \"))\n",
    "def verifDiv3(a):\n",
    "    b=3\n",
    "    q=0\n",
    "    while b<=a:\n",
    "        a=a-b\n",
    "        q=q+1\n",
    "    if a==0:\n",
    "        return True\n",
    "    else:\n",
    "        return False\n",
    "verifDiv3(a)"
   ]
  },
  {
   "cell_type": "code",
   "execution_count": null,
   "metadata": {},
   "outputs": [],
   "source": []
  }
 ],
 "metadata": {
  "kernelspec": {
   "display_name": "Python 3",
   "language": "python",
   "name": "python3"
  },
  "language_info": {
   "codemirror_mode": {
    "name": "ipython",
    "version": 3
   },
   "file_extension": ".py",
   "mimetype": "text/x-python",
   "name": "python",
   "nbconvert_exporter": "python",
   "pygments_lexer": "ipython3",
   "version": "3.7.4"
  }
 },
 "nbformat": 4,
 "nbformat_minor": 2
}
